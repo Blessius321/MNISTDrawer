{
 "cells": [
  {
   "cell_type": "markdown",
   "metadata": {},
   "source": [
    "Membaca data dari file ubyte MNIST"
   ]
  },
  {
   "cell_type": "code",
   "execution_count": 1,
   "metadata": {},
   "outputs": [],
   "source": [
    "import numpy as np\n",
    "import matplotlib.pyplot as plt\n",
    "\n",
    "# function untuk konversi dari ubyte menjadi file TXT\n",
    "def convert(img_file, label_file, txt_file, n_images):\n",
    "  print(\"\\nOpening binary pixels and labels files \")\n",
    "  lbl_f = open(label_file, \"rb\")   # labels (digits)\n",
    "  img_f = open(img_file, \"rb\")     # pixel values\n",
    "  print(\"Opening destination text file \")\n",
    "  txt_f = open(txt_file, \"w\")      # output to write to\n",
    "\n",
    "  print(\"Discarding binary pixel and label headers \")\n",
    "  img_f.read(16)   # discard header info\n",
    "  lbl_f.read(8)    # discard header info\n",
    "\n",
    "  print(\"\\nReading binary files, writing to text file \")\n",
    "  print(\"Format: 784 pixels then labels, tab delimited \")\n",
    "  for i in range(n_images):   # number requested \n",
    "    lbl = ord(lbl_f.read(1))  # Unicode, one byte\n",
    "    for j in range(784):  # get 784 pixel vals\n",
    "      val = ord(img_f.read(1))\n",
    "      txt_f.write(str(val) + \"\\t\") \n",
    "    txt_f.write(str(lbl) + \"\\n\")\n",
    "  img_f.close(); txt_f.close(); lbl_f.close()\n",
    "  print(\"\\nDone \")\n",
    "\n",
    "# function untuk menunjukan gambar dari file txt\n",
    "def display_from_file(txt_file, idx):\n",
    "  all_data = np.loadtxt(txt_file, delimiter=\"\\t\",\n",
    "    usecols=range(0,785), dtype=np.int64)\n",
    "\n",
    "  x_data = all_data[:,0:784]  # all rows, 784 cols\n",
    "  y_data = all_data[:,784]    # all rows, last col\n",
    "\n",
    "  label = y_data[idx]\n",
    "  print(\"digit = \", str(label), \"\\n\")\n",
    "\n",
    "  pixels = x_data[idx]\n",
    "  pixels = pixels.reshape((28,28))\n",
    "  for i in range(28):\n",
    "    for j in range(28):\n",
    "      # print(\"%.2X\" % pixels[i,j], end=\"\")\n",
    "      print(\"%3d\" % pixels[i,j], end=\"\")\n",
    "      print(\" \", end=\"\")\n",
    "    print(\"\")\n",
    "\n",
    "  plt.tight_layout()\n",
    "  plt.imshow(pixels, cmap=plt.get_cmap('gray_r'))\n",
    "  plt.show()  "
   ]
  },
  {
   "cell_type": "code",
   "execution_count": 39,
   "metadata": {},
   "outputs": [
    {
     "name": "stdout",
     "output_type": "stream",
     "text": [
      "\n",
      "Opening binary pixels and labels files \n",
      "Opening destination text file \n",
      "Discarding binary pixel and label headers \n",
      "\n",
      "Reading binary files, writing to text file \n",
      "Format: 784 pixels then labels, tab delimited \n",
      "\n",
      "Done \n"
     ]
    }
   ],
   "source": [
    "convert(\"dataset/train-images.idx3-ubyte\", \"dataset/train-labels.idx1-ubyte\", \"dataset/trainSet.txt\", 60000)"
   ]
  },
  {
   "cell_type": "code",
   "execution_count": 6,
   "metadata": {},
   "outputs": [
    {
     "name": "stdout",
     "output_type": "stream",
     "text": [
      "digit =  3 \n",
      "\n",
      "  0   0   0   0   0   0   0   0   0   0   0   0   0   0   0   0   0   0   0   0   0   0   0   0   0   0   0   0 \n",
      "  0   0   0   0   0   0   0   0   0   0   0   0   0   0   0   0   0   0   0   0   0   0   0   0   0   0   0   0 \n",
      "  0   0   0   0   0   0   0   0   0   0   0   0   0   0   0   0   0   0   0   0   0   0   0   0   0   0   0   0 \n",
      "  0   0   0   0   0   0   0   0   0   0   0   0   0   0   0   0   0   0   0   0   0   0   0   0   0   0   0   0 \n",
      "  0   0   0   0   0   0   0   0   0   0   0   0   0   0   0   0   0   0   0   0   0   0   0   0   0   0   0   0 \n",
      "  0   0   0   0   0   0   0   0   0   0  47 156 205 254 255 112   0   0   0   0   0   0   0   0   0   0   0   0 \n",
      "  0   0   0   0   0   0   0   0  53 208 245 253 253 253 240 249  50   0   0   0   0   0   0   0   0   0   0   0 \n",
      "  0   0   0   0   0   0   1  73 242 248 212 128  56  56 122 253  94   0   0   0   0   0   0   0   0   0   0   0 \n",
      "  0   0   0   0   0   0 101 253 211  64   0   0   0   0  66 253 212   0   0   0   0   0   0   0   0   0   0   0 \n",
      "  0   0   0   0   0   0 126 143  15   0   0   0   0   0  66 253 226   0   0   0   0   0   0   0   0   0   0   0 \n",
      "  0   0   0   0   0   0   0   0   0   0   0   0   0   0 115 253 142   0   0   0   0   0   0   0   0   0   0   0 \n",
      "  0   0   0   0   0   0   0   0   0   0   0   0   0  32 254 253 119   0   0   0   0   0   0   0   0   0   0   0 \n",
      "  0   0   0   0   0   0   0   0   0   0   0   0   7 129 254 253 252 244  95   0   0   0   0   0   0   0   0   0 \n",
      "  0   0   0   0   0   0   0   0   0   0   0   0 120 253 254 238 225 253 246  50   0   0   0   0   0   0   0   0 \n",
      "  0   0   0   0   0   0   0   0   0   0   0  42 243 218  66  32   3 121 253 175   0   0   0   0   0   0   0   0 \n",
      "  0   0   0   0   0   0   0   0   0   0   0   0 116  60   0   0   0   0 236 247  47   0   0   0   0   0   0   0 \n",
      "  0   0   0   0   0   0   0   0   0   0   0   0   0   0   0   0   0   0 103 253 135   2   0   0   0   0   0   0 \n",
      "  0   0   0   0   0   0   0   0   0   0   0   0   0   0   0   0   0   0  28 230 253  47   0   0   0   0   0   0 \n",
      "  0   0   0   0   0   0   0   0   0   0   0   0   0   0   0   0   0   0   0 113 253 103   0   0   0   0   0   0 \n",
      "  0   0   0   0   0   0   0   0   0   0   0   0   0   0   0   0   0   0  97 243 237  14   0   0   0   0   0   0 \n",
      "  0   0   0   0   0   0   0   0   0   2  19  15   0   0   0   0   0   6 184 251 155   0   0   0   0   0   0   0 \n",
      "  0   0   0   0   0   0   0   0   0  86 253 236  26   0   0   0  35 169 253 167   0   0   0   0   0   0   0   0 \n",
      "  0   0   0   0   0   0   0   0   0  53 236 253  79   0  96 199 248 253 169  22   0   0   0   0   0   0   0   0 \n",
      "  0   0   0   0   0   0   0   0   0   0  89 252 249 216 240 248 221 103  17   0   0   0   0   0   0   0   0   0 \n",
      "  0   0   0   0   0   0   0   0   0   0   0  84 239 253 170  56   0   0   0   0   0   0   0   0   0   0   0   0 \n",
      "  0   0   0   0   0   0   0   0   0   0   0   0   0   0   0   0   0   0   0   0   0   0   0   0   0   0   0   0 \n",
      "  0   0   0   0   0   0   0   0   0   0   0   0   0   0   0   0   0   0   0   0   0   0   0   0   0   0   0   0 \n",
      "  0   0   0   0   0   0   0   0   0   0   0   0   0   0   0   0   0   0   0   0   0   0   0   0   0   0   0   0 \n"
     ]
    },
    {
     "data": {
      "image/png": "[encoded data removed]",
      "text/plain": [
       "<Figure size 640x480 with 1 Axes>"
      ]
     },
     "metadata": {},
     "output_type": "display_data"
    }
   ],
   "source": [
    "display_from_file(\"dataset/trainSet.txt\", 30000)"
   ]
  },
  {
   "cell_type": "markdown",
   "metadata": {},
   "source": [
    "Membuat dataset MNIST dari file txt"
   ]
  },
  {
   "cell_type": "code",
   "execution_count": 7,
   "metadata": {},
   "outputs": [],
   "source": [
    "import torch\n",
    "import numpy as np\n",
    "\n",
    "class MNIST_Dataset(torch.utils.data.Dataset):\n",
    "  # 784 tab-delim pixel values (0-255) then label (0-9)\n",
    "  def __init__(self, src_file, transform = None):\n",
    "    all_xy = np.loadtxt(src_file, usecols=range(785),\n",
    "      delimiter=\"\\t\", comments=\"#\", dtype=np.float32)\n",
    "\n",
    "    self.transform = transform\n",
    "    tmp_x = all_xy[:, 0:784]  # all rows, cols [0,783]\n",
    "    tmp_x /= 255\n",
    "    tmp_x = tmp_x.reshape(-1, 1, 28, 28)\n",
    "    tmp_y = all_xy[:, 784]\n",
    "\n",
    "    self.x_data = \\\n",
    "      torch.tensor(tmp_x, dtype=torch.float32)\n",
    "    self.y_data = \\\n",
    "      torch.tensor(tmp_y, dtype=torch.int64)\n",
    "     \n",
    "\n",
    "  def __len__(self):\n",
    "    return len(self.x_data)\n",
    "\n",
    "  def __getitem__(self, idx):\n",
    "    lbl = self.y_data[idx]  # no use labels\n",
    "    pixels = self.x_data[idx]\n",
    "\n",
    "    if self.transform:\n",
    "      pixels = self.transform(pixels) \n",
    "    return (pixels, lbl)"
   ]
  },
  {
   "cell_type": "markdown",
   "metadata": {},
   "source": [
    "Visualisasi Data dari setiap kelas"
   ]
  },
  {
   "cell_type": "code",
   "execution_count": 8,
   "metadata": {},
   "outputs": [
    {
     "name": "stdout",
     "output_type": "stream",
     "text": [
      "appending class 5\n",
      "appending class 0\n",
      "appending class 4\n",
      "appending class 1\n",
      "appending class 9\n",
      "appending class 2\n",
      "appending class 3\n",
      "appending class 6\n",
      "appending class 7\n",
      "appending class 8\n",
      "done getting examples\n"
     ]
    }
   ],
   "source": [
    "# load dataset\n",
    "ds = MNIST_Dataset(\"dataset/trainSet.txt\")\n",
    "\n",
    "images = []\n",
    "classes = []\n",
    "for data in ds:\n",
    "    pixels, lbl = data\n",
    "    if not lbl in classes:\n",
    "        images.append(pixels)\n",
    "        classes.append(lbl)\n",
    "        print(f\"appending class {lbl}\")\n",
    "    if len(classes) == 10:\n",
    "        print(\"done getting examples\")\n",
    "        break\n"
   ]
  },
  {
   "cell_type": "code",
   "execution_count": 19,
   "metadata": {},
   "outputs": [
    {
     "data": {
      "image/png": "[encoded data removed]",
      "text/plain": [
       "<Figure size 800x320 with 10 Axes>"
      ]
     },
     "metadata": {},
     "output_type": "display_data"
    }
   ],
   "source": [
    "# ukuran dari gambar\n",
    "width = 28\n",
    "height = 28\n",
    "\n",
    "# siapkan figure\n",
    "fig = plt.figure(figsize=(10, 4), dpi=80)\n",
    "columns = 5\n",
    "rows = 2\n",
    "\n",
    "# printing image ke figure\n",
    "for i in range(1, columns*rows +1):\n",
    "    pixels = images[i - 1]\n",
    "    lbl = classes[i-1].item()\n",
    "    pixels = pixels.reshape((width, height))\n",
    "    fig.add_subplot(rows, columns, lbl +1)\n",
    "    plt.imshow(pixels, cmap=plt.get_cmap('gray_r'))\n",
    "\n",
    "plt.show()"
   ]
  },
  {
   "cell_type": "markdown",
   "metadata": {},
   "source": [
    "Jumlah Data setiap Kelas"
   ]
  },
  {
   "cell_type": "code",
   "execution_count": 38,
   "metadata": {},
   "outputs": [
    {
     "data": {
      "image/png": "[encoded data removed]",
      "text/plain": [
       "<Figure size 1000x500 with 1 Axes>"
      ]
     },
     "metadata": {},
     "output_type": "display_data"
    }
   ],
   "source": [
    "count = [0 for x in range(0, 10)]\n",
    "classes = ['zero', 'one', 'two', 'three', 'four', 'five', 'six', 'seven', 'eight', 'nine']\n",
    "for _,lbl in ds:\n",
    "    count[lbl.item()] += 1\n",
    "\n",
    "fig, ax = plt.subplots(figsize=(10,5))\n",
    "ax.bar(classes, count)\n",
    "ax.set_ylabel(\"Count\")\n",
    "ax.set_xlabel(\"Class\")\n",
    "ax.set_title(\"Count of sample in each class\")\n",
    "plt.show()"
   ]
  }
 ],
 "metadata": {
  "kernelspec": {
   "display_name": "mlops",
   "language": "python",
   "name": "python3"
  },
  "language_info": {
   "codemirror_mode": {
    "name": "ipython",
    "version": 3
   },
   "file_extension": ".py",
   "mimetype": "text/x-python",
   "name": "python",
   "nbconvert_exporter": "python",
   "pygments_lexer": "ipython3",
   "version": "3.10.0"
  }
 },
 "nbformat": 4,
 "nbformat_minor": 2
}
